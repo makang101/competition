{
 "cells": [
  {
   "cell_type": "code",
   "execution_count": 1,
   "metadata": {},
   "outputs": [],
   "source": [
    "import pandas as pd\n",
    "import numpy as np\n",
    "import matplotlib.pyplot as plt\n",
    "import sys\n",
    "import gc\n",
    "# import objgraph"
   ]
  },
  {
   "cell_type": "code",
   "execution_count": 2,
   "metadata": {},
   "outputs": [],
   "source": [
    "df_train = pd.read_csv('tap_fun_train.csv')\n",
    "df_test = pd.read_csv('tap_fun_test.csv')"
   ]
  },
  {
   "cell_type": "code",
   "execution_count": null,
   "metadata": {},
   "outputs": [],
   "source": [
    "print('df_train ref:', sys.getrefcount(df_train))\n",
    "print('df_test ref:', sys.getrefcount(df_test))"
   ]
  },
  {
   "cell_type": "code",
   "execution_count": 4,
   "metadata": {},
   "outputs": [
    {
     "name": "stderr",
     "output_type": "stream",
     "text": [
      "D:\\Programfiles\\Anaconda3\\lib\\site-packages\\ipykernel_launcher.py:2: SettingWithCopyWarning: \n",
      "A value is trying to be set on a copy of a slice from a DataFrame.\n",
      "Try using .loc[row_indexer,col_indexer] = value instead\n",
      "\n",
      "See the caveats in the documentation: http://pandas.pydata.org/pandas-docs/stable/indexing.html#indexing-view-versus-copy\n",
      "  \n",
      "D:\\Programfiles\\Anaconda3\\lib\\site-packages\\ipykernel_launcher.py:5: SettingWithCopyWarning: \n",
      "A value is trying to be set on a copy of a slice from a DataFrame.\n",
      "Try using .loc[row_indexer,col_indexer] = value instead\n",
      "\n",
      "See the caveats in the documentation: http://pandas.pydata.org/pandas-docs/stable/indexing.html#indexing-view-versus-copy\n",
      "  \"\"\"\n"
     ]
    }
   ],
   "source": [
    "data = df_train[['pay_price']]\n",
    "data['b'] = 1\n",
    "datalabel = df_train[['prediction_pay_price']]\n",
    "data_test = df_test[['pay_price']]\n",
    "data_test['b'] = 1"
   ]
  },
  {
   "cell_type": "code",
   "execution_count": 7,
   "metadata": {},
   "outputs": [
    {
     "name": "stdout",
     "output_type": "stream",
     "text": [
      "df_train ref: 3\n",
      "df_test ref: 3\n"
     ]
    }
   ],
   "source": [
    "del datalabel\n",
    "print('df_train ref:', sys.getrefcount(df_train))\n",
    "print('df_test ref:', sys.getrefcount(df_test))\n",
    "#print('data ref:', sys.getrefcount(data))\n",
    "#print('data_test ref:', sys.getrefcount(data_test))"
   ]
  },
  {
   "cell_type": "code",
   "execution_count": 11,
   "metadata": {},
   "outputs": [
    {
     "data": {
      "text/plain": [
       "85"
      ]
     },
     "execution_count": 11,
     "metadata": {},
     "output_type": "execute_result"
    }
   ],
   "source": [
    "del df_train\n",
    "gc.collect()"
   ]
  },
  {
   "cell_type": "code",
   "execution_count": null,
   "metadata": {},
   "outputs": [],
   "source": [
    "dataMat = np.mat(data.values)\n",
    "labelMat = np.mat(datalabel.values)\n",
    "data_testMat = np.mat(data_test)\n",
    "del df_train;"
   ]
  },
  {
   "cell_type": "code",
   "execution_count": null,
   "metadata": {},
   "outputs": [],
   "source": [
    "\"\"\"\n",
    "input：\n",
    "    dataMat:数据集\n",
    "    labelMat:标签\n",
    "output:\n",
    "    w : (w,b) \n",
    "\"\"\"\n",
    "def OLS_frm(dataMat, labelMat):\n",
    "    XTX = dataMat.T * dataMat\n",
    "    if np.linalg.det(XTX) == 0:\n",
    "        print('this matrix cannot do inverse!')\n",
    "        return\n",
    "    w = XTX.I * dataMat.T * labelMat\n",
    "    \n",
    "    return w"
   ]
  },
  {
   "cell_type": "code",
   "execution_count": null,
   "metadata": {},
   "outputs": [],
   "source": [
    "w = OLS_frm(dataMat, labelMat)\n",
    "print(w)"
   ]
  },
  {
   "cell_type": "code",
   "execution_count": null,
   "metadata": {},
   "outputs": [],
   "source": [
    "y_ = dataMat * w\n",
    "x = dataMat[:,0].flatten().A[0]\n",
    "label = datalabel.values\n",
    "fig = plt.figure()\n",
    "ax = fig.add_subplot(111)\n",
    "ax.scatter(x, label)\n",
    "dataMat_c = dataMat.copy()\n",
    "dataMat_c.sort(1)\n",
    "y_ = dataMat_c * w\n",
    "ax.plot(dataMat_c[:, 0], y_)"
   ]
  },
  {
   "cell_type": "code",
   "execution_count": null,
   "metadata": {},
   "outputs": [],
   "source": [
    "y_ = data_testMat * w"
   ]
  },
  {
   "cell_type": "code",
   "execution_count": null,
   "metadata": {},
   "outputs": [],
   "source": []
  }
 ],
 "metadata": {
  "kernelspec": {
   "display_name": "Python 3",
   "language": "python",
   "name": "python3"
  },
  "language_info": {
   "codemirror_mode": {
    "name": "ipython",
    "version": 3
   },
   "file_extension": ".py",
   "mimetype": "text/x-python",
   "name": "python",
   "nbconvert_exporter": "python",
   "pygments_lexer": "ipython3",
   "version": "3.6.4"
  }
 },
 "nbformat": 4,
 "nbformat_minor": 2
}
