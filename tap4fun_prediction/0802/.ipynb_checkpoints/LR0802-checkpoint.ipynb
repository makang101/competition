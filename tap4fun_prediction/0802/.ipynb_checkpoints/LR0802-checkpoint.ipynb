{
 "cells": [
  {
   "cell_type": "markdown",
   "metadata": {},
   "source": [
    "LinearRegression"
   ]
  },
  {
   "cell_type": "code",
   "execution_count": 2,
   "metadata": {},
   "outputs": [],
   "source": [
    "import pandas as pd\n",
    "import numpy as np\n",
    "import matplotlib.pyplot as plt\n",
    "import sys\n",
    "import gc"
   ]
  },
  {
   "cell_type": "code",
   "execution_count": 3,
   "metadata": {},
   "outputs": [],
   "source": [
    "df_train = pd.read_csv('dimension_10.csv'); df_train['b'] = 1\n",
    "df_test = pd.read_csv('testdimension_10.csv')"
   ]
  },
  {
   "cell_type": "code",
   "execution_count": 4,
   "metadata": {},
   "outputs": [],
   "source": [
    "labelMat = np.mat(df_train[['prediction_pay_price']].values);del df_train['prediction_pay_price']\n",
    "dataMat = np.mat(df_train.values)\n",
    "user_id = df_test[['user_id']]; del df_test['user_id']\n",
    "df_test['b'] = 1\n",
    "data_testMat = np.mat(df_test.values)"
   ]
  },
  {
   "cell_type": "code",
   "execution_count": 5,
   "metadata": {},
   "outputs": [
    {
     "name": "stdout",
     "output_type": "stream",
     "text": [
      "df_train ref: 3\n",
      "df_test ref: 3\n"
     ]
    }
   ],
   "source": [
    "print('df_train ref:', sys.getrefcount(df_train))\n",
    "print('df_test ref:', sys.getrefcount(df_test))"
   ]
  },
  {
   "cell_type": "code",
   "execution_count": 6,
   "metadata": {},
   "outputs": [],
   "source": [
    "del df_train; del df_test;"
   ]
  },
  {
   "cell_type": "code",
   "execution_count": 7,
   "metadata": {},
   "outputs": [
    {
     "data": {
      "text/plain": [
       "50"
      ]
     },
     "execution_count": 7,
     "metadata": {},
     "output_type": "execute_result"
    }
   ],
   "source": [
    "gc.collect()"
   ]
  },
  {
   "cell_type": "code",
   "execution_count": 8,
   "metadata": {},
   "outputs": [],
   "source": [
    "\"\"\"\n",
    "ordinary least squares\n",
    "input：\n",
    "    dataMat:数据集\n",
    "    labelMat:标签\n",
    "output:\n",
    "    w : (w,b) \n",
    "\"\"\"\n",
    "def OLS_frm(dataMat, labelMat):\n",
    "    XTX = dataMat.T * dataMat\n",
    "    if np.linalg.det(XTX) == 0:\n",
    "        print('this matrix cannot do inverse!')\n",
    "        return\n",
    "    w = XTX.I * dataMat.T * labelMat\n",
    "    \n",
    "    return w"
   ]
  },
  {
   "cell_type": "code",
   "execution_count": 9,
   "metadata": {},
   "outputs": [
    {
     "name": "stdout",
     "output_type": "stream",
     "text": [
      "[[-5.15687545e-06]\n",
      " [ 3.85168889e-06]\n",
      " [-7.16296236e-06]\n",
      " [ 2.19326351e-06]\n",
      " [-2.08115665e-06]\n",
      " [ 6.27162211e-06]\n",
      " [ 1.27022466e-05]\n",
      " [-6.60513313e-06]\n",
      " [-2.09681018e-05]\n",
      " [ 1.33973229e-05]\n",
      " [ 1.79314579e+00]]\n"
     ]
    }
   ],
   "source": [
    "w = OLS_frm(dataMat, labelMat)\n",
    "print(w)"
   ]
  },
  {
   "cell_type": "code",
   "execution_count": 10,
   "metadata": {},
   "outputs": [],
   "source": [
    "y_ = data_testMat * w"
   ]
  },
  {
   "cell_type": "code",
   "execution_count": 13,
   "metadata": {},
   "outputs": [],
   "source": [
    "y_[y_ < 0] = 0 "
   ]
  },
  {
   "cell_type": "code",
   "execution_count": 14,
   "metadata": {},
   "outputs": [
    {
     "data": {
      "text/plain": [
       "matrix([[0.        ],\n",
       "        [0.        ],\n",
       "        [0.        ],\n",
       "        ...,\n",
       "        [0.        ],\n",
       "        [0.01025865],\n",
       "        [0.01025864]])"
      ]
     },
     "execution_count": 14,
     "metadata": {},
     "output_type": "execute_result"
    }
   ],
   "source": [
    "y_"
   ]
  },
  {
   "cell_type": "code",
   "execution_count": 15,
   "metadata": {},
   "outputs": [],
   "source": [
    "user_id['prediction_pay_price'] = y_"
   ]
  },
  {
   "cell_type": "code",
   "execution_count": 18,
   "metadata": {},
   "outputs": [],
   "source": [
    "user_id.to_csv('prediction08_02.csv', encoding = 'utf-8', index = False)"
   ]
  }
 ],
 "metadata": {
  "kernelspec": {
   "display_name": "Python 3",
   "language": "python",
   "name": "python3"
  },
  "language_info": {
   "codemirror_mode": {
    "name": "ipython",
    "version": 3
   },
   "file_extension": ".py",
   "mimetype": "text/x-python",
   "name": "python",
   "nbconvert_exporter": "python",
   "pygments_lexer": "ipython3",
   "version": "3.6.4"
  }
 },
 "nbformat": 4,
 "nbformat_minor": 2
}
