{
 "cells": [
  {
   "cell_type": "code",
   "execution_count": 1,
   "metadata": {},
   "outputs": [],
   "source": [
    "from pandas import DataFrame\n",
    "from math import ceil,e\n",
    "import time\n",
    "import pandas as pd\n",
    "import numpy as np\n",
    "import os\n",
    "import copy\n",
    "import random"
   ]
  },
  {
   "cell_type": "code",
   "execution_count": 2,
   "metadata": {},
   "outputs": [],
   "source": [
    "def shuffle_df_cols(dataframe,clas = 'class'):\n",
    "    '''dataframe with class'''\n",
    "    x = list(dataframe.columns)\n",
    "    if clas in x:\n",
    "        x.remove(clas)\n",
    "        #print(1)\n",
    "    random.shuffle(x)\n",
    "    x.append(clas)  #put the class attr to the last position\n",
    "    return x"
   ]
  },
  {
   "cell_type": "code",
   "execution_count": 3,
   "metadata": {},
   "outputs": [],
   "source": [
    "def getPosNumByEqulance_hash2(dataframe,cols=[],dec_attrs='class'):\n",
    "    '''return a dict and |POSB(D)|,where B=con_attrs'''\n",
    "#     print('cols: ',cols)\n",
    "    clas_groups = dataframe.groupby(by=dataframe[dec_attrs]).groups;del dataframe[dec_attrs]\n",
    "    if not cols:\n",
    "        return dict(),0\n",
    "    t = dataframe.groupby(by=cols).groups\n",
    "    for key in t.keys():\n",
    "        check = False\n",
    "        for key2 in clas_groups:\n",
    "            if set(t[key]).issubset(clas_groups[key2]):\n",
    "                check = True\n",
    "                break\n",
    "        t[key] = (t[key],len(t[key]),check)\n",
    "    Count = 0\n",
    "    for key in t.keys():\n",
    "        if t[key][2]:\n",
    "            Count += t[key][1]\n",
    "    return t,Count"
   ]
  },
  {
   "cell_type": "code",
   "execution_count": 4,
   "metadata": {},
   "outputs": [],
   "source": [
    "def generalized_quick_forward_greedy_reduction(inputpath = '',dec_attrs = 'class',f=None):\n",
    "    start = time.clock()\n",
    "    print('start!')\n",
    "    if isinstance(inputpath,str):\n",
    "        dataframe = pd.read_csv(inputpath,engine='c')\n",
    "    elif isinstance(inputpath,pd.core.frame.DataFrame):\n",
    "        dataframe = inputpath\n",
    "    reduct=set()\n",
    "    attr_cols = list(dataframe.columns);\n",
    "    attr_cols.remove(dec_attrs);\n",
    "    attr_cols = set(attr_cols)\n",
    "    clas = dataframe[dec_attrs]\n",
    "    Count  = 0\n",
    "    \n",
    "    while 1:\n",
    "        u_ = dict()  \n",
    "        sigs = []\n",
    "        len_new_dataframe = len(dataframe)\n",
    "#         print(dataframe.index)\n",
    "#         print('reduct',reduct)\n",
    "        tmp = copy.deepcopy(reduct)\n",
    "        t,Count = getPosNumByEqulance_hash2(dataframe,cols = list(tmp),dec_attrs = dec_attrs)\n",
    "        dataframe[dec_attrs] = clas\n",
    "        DF_last = Count / len_new_dataframe\n",
    "        for attr in attr_cols - reduct:\n",
    "            tmp = copy.deepcopy(reduct)\n",
    "            tmp.add(attr)\n",
    "            t,Count = getPosNumByEqulance_hash2(dataframe,cols = list(tmp),dec_attrs = dec_attrs)\n",
    "#             print('tmp',tmp)\n",
    "            dataframe[dec_attrs] = clas\n",
    "            sig = Count / len_new_dataframe - DF_last\n",
    "#             print(attr,': ','Count: ',Count,'len: ',len_new_dataframe,'DF_now: ', Count / len_new_dataframe ,DF_last)\n",
    "            sigs.append((attr,sig)) \n",
    "        \n",
    "            for key in t.keys():\n",
    "                if t[key][2] == True:\n",
    "                    u_[attr] = t[key][0]\n",
    "#         print('sigs:',sigs)\n",
    "        ak = sigs.index(max(sigs,key = lambda x:x[1]))\n",
    "#         print(sigs)\n",
    "#         print(sigs[ak][0],u_[sigs[ak][0]])\n",
    "        if sigs[ak][1] > 0:\n",
    "            dataframe = dataframe.drop(u_[sigs[ak][0]])\n",
    "            reduct.add(sigs[ak][0])\n",
    "            print(sigs[ak][0])\n",
    "        elif sigs[ak][1] == 0 and len(reduct) == 0:\n",
    "            reduct.add(sigs[ak][0])\n",
    "#             print('elif break:',sigs)\n",
    "#             print('elif final reduct',reduct)\n",
    "            break\n",
    "        else:\n",
    "#             print('else break:',sigs)\n",
    "#             print('else final reduct',reduct)\n",
    "            break\n",
    "#         print(len(dataframe),sigs,u_)\n",
    "    #print 'forward_ spend time:%fs'%(time.clock()-start),'reduct result:',list(reduct)\n",
    "    print('quick_forward spend time:{}s '.format(time.clock()-start)+'reduct result: {}\\n'.format(list(reduct)))\n",
    "    # print(time.clock()-start)\n",
    "    #return reduct\n",
    "    "
   ]
  },
  {
   "cell_type": "code",
   "execution_count": 5,
   "metadata": {},
   "outputs": [
    {
     "ename": "NameError",
     "evalue": "name 'f' is not defined",
     "output_type": "error",
     "traceback": [
      "\u001b[1;31m---------------------------------------------------------------------------\u001b[0m",
      "\u001b[1;31mNameError\u001b[0m                                 Traceback (most recent call last)",
      "\u001b[1;32m<ipython-input-5-07eaea583ab5>\u001b[0m in \u001b[0;36m<module>\u001b[1;34m()\u001b[0m\n\u001b[0;32m      4\u001b[0m     \u001b[0mtmp\u001b[0m \u001b[1;33m=\u001b[0m \u001b[0mshuffle_df_cols\u001b[0m\u001b[1;33m(\u001b[0m\u001b[0mdataframe\u001b[0m\u001b[1;33m)\u001b[0m\u001b[1;33m\u001b[0m\u001b[0m\n\u001b[0;32m      5\u001b[0m     \u001b[0md\u001b[0m \u001b[1;33m=\u001b[0m \u001b[0mdataframe\u001b[0m\u001b[1;33m[\u001b[0m\u001b[0mtmp\u001b[0m\u001b[1;33m]\u001b[0m\u001b[1;33m\u001b[0m\u001b[0m\n\u001b[1;32m----> 6\u001b[1;33m     \u001b[0mgeneralized_quick_forward_greedy_reduction\u001b[0m\u001b[1;33m(\u001b[0m\u001b[0md\u001b[0m\u001b[1;33m,\u001b[0m\u001b[1;34m'class'\u001b[0m\u001b[1;33m,\u001b[0m\u001b[0mf\u001b[0m\u001b[1;33m)\u001b[0m\u001b[1;33m\u001b[0m\u001b[0m\n\u001b[0m",
      "\u001b[1;31mNameError\u001b[0m: name 'f' is not defined"
     ]
    }
   ],
   "source": [
    "if __name__ == \"__main__\":\n",
    "    dataframe = pd.read_csv('tap4funboolean.csv',engine='c',dtype='str')\n",
    "    cols_seq = []\n",
    "    tmp = shuffle_df_cols(dataframe)\n",
    "    d = dataframe[tmp]\n",
    "    generalized_quick_forward_greedy_reduction(d,'class')"
   ]
  },
  {
   "cell_type": "code",
   "execution_count": null,
   "metadata": {},
   "outputs": [],
   "source": []
  }
 ],
 "metadata": {
  "kernelspec": {
   "display_name": "Python 3",
   "language": "python",
   "name": "python3"
  },
  "language_info": {
   "codemirror_mode": {
    "name": "ipython",
    "version": 3
   },
   "file_extension": ".py",
   "mimetype": "text/x-python",
   "name": "python",
   "nbconvert_exporter": "python",
   "pygments_lexer": "ipython3",
   "version": "3.6.4"
  }
 },
 "nbformat": 4,
 "nbformat_minor": 2
}
