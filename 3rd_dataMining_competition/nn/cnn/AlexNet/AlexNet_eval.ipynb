{
 "cells": [
  {
   "cell_type": "code",
   "execution_count": null,
   "metadata": {},
   "outputs": [],
   "source": [
    "import tensorflow as tf\n",
    "import AlexNet1"
   ]
  },
  {
   "cell_type": "code",
   "execution_count": null,
   "metadata": {},
   "outputs": [],
   "source": [
    "EVAL_INTERVAL = 15\n",
    "def evaluate():\n",
    "    x = tf.placeholder(tf.float32, [None, AlexNet1.IMAGE_SIZE, AlexNet1.IMAGE_SIZE, 3], name = 'x_input')\n",
    "    y_ = tf.placeholder(tf.float32, [None, 100], name = 'y_input')\n",
    "    x = tf.placeholder(tf.float32, [\n",
    "        None,\n",
    "        IMAGE_SIZE,\n",
    "        IMAGE_SIZE,\n",
    "        NUM_CHANNELS], name = 'x_input')\n",
    "    y_ = tf.placeholder(tf.float32, [None, 100], name = 'y_input')   \n",
    "    y = inference(x, 0.5)\n",
    "    y = AlexNet1.inference(x, 0.5)\n",
    "    #global_step = tf.Variable(0, trainable=False)\n",
    "    _, _, val_x, val_y = AlexNet1.get_train_val_data(ratio=0.95)\n",
    "    print(len(val_x))\n",
    "    validate_feed = {x: val_x, y_: val_y}\n",
    "    correct_prediction = tf.equal(tf.argmax(y, 1), tf.argmax(y_, 1))\n",
    "    accuracy = tf.reduce_mean(tf.cast(correct_prediction, tf.float32))\n",
    "    \n",
    "    saver = tf.train.Saver()\n",
    "    while True:\n",
    "        with tf.Session() as sess:\n",
    "            ckpt = tf.train.get_checkpoint_state(AlexNet1.MODEL_SAVE_PATH)\n",
    "            if ckpt and ckpt.model_checkpoint_path:\n",
    "                #for model in ckpt.all_model_checkpoint_paths:\n",
    "                saver.restore(sess, ckpt.model_checkpoint_path)\n",
    "                    #saver.restore(sess, model)\n",
    "                epoch = ckpt.model_checkpoint_path.split('/')[-1].split('-')[-1]\n",
    "                accuracy_score = sess.run(accuracy, feed_dict=validate_feed)\n",
    "                print(\"After %s training epoch(s), validation accuracy = %g\" % (epoch, accuracy_score))\n",
    "            else:\n",
    "                print('No checkpoint file found')\n",
    "                return\n",
    "        time.sleep(EVAL_INTERVAL_SECS)"
   ]
  },
  {
   "cell_type": "code",
   "execution_count": null,
   "metadata": {},
   "outputs": [],
   "source": [
    "def main(argv=None):\n",
    "    #mnist = input_data.read_data_sets(\"../../../datasets/MNIST_data\", one_hot=True)\n",
    "    evaluate()\n",
    "\n",
    "if __name__ == '__main__':\n",
    "    main()"
   ]
  },
  {
   "cell_type": "code",
   "execution_count": null,
   "metadata": {},
   "outputs": [],
   "source": [
    "with tf.Session() as sess:\n",
    "    ckpt = tf.train.get_checkpoint_state(AlexNet1.MODEL_SAVE_PATH)\n",
    "    if ckpt and ckpt.model_checkpoint_path:\n",
    "        #for model in ckpt.all_model_checkpoint_paths:\n",
    "        print(ckpt, ckpt.model_checkpoint_path)\n",
    "        #saver.restore(sess, ckpt.model_checkpoint_path)\n",
    "            #saver.restore(sess, model)\n",
    "        epoch = ckpt.model_checkpoint_path.split('/')[-1].split('-')[-1]\n",
    "        print(epoch)\n",
    "        #accuracy_score = sess.run(accuracy, feed_dict=validate_feed)\n",
    "        "
   ]
  },
  {
   "cell_type": "code",
   "execution_count": null,
   "metadata": {},
   "outputs": [],
   "source": []
  }
 ],
 "metadata": {
  "kernelspec": {
   "display_name": "Python 3",
   "language": "python",
   "name": "python3"
  },
  "language_info": {
   "codemirror_mode": {
    "name": "ipython",
    "version": 3
   },
   "file_extension": ".py",
   "mimetype": "text/x-python",
   "name": "python",
   "nbconvert_exporter": "python",
   "pygments_lexer": "ipython3",
   "version": "3.6.4"
  }
 },
 "nbformat": 4,
 "nbformat_minor": 2
}
