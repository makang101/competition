{
 "cells": [
  {
   "cell_type": "code",
   "execution_count": 2,
   "metadata": {
    "scrolled": true
   },
   "outputs": [
    {
     "name": "stderr",
     "output_type": "stream",
     "text": [
      "D:\\Programfiles\\Anaconda3\\lib\\site-packages\\h5py\\__init__.py:36: FutureWarning: Conversion of the second argument of issubdtype from `float` to `np.floating` is deprecated. In future, it will be treated as `np.float64 == np.dtype(float).type`.\n",
      "  from ._conv import register_converters as _register_converters\n"
     ]
    }
   ],
   "source": [
    "import time\n",
    "import tensorflow as tf\n",
    "from tensorflow.examples.tutorials.mnist import input_data\n",
    "import LeNet5\n",
    "import numpy as np"
   ]
  },
  {
   "cell_type": "code",
   "execution_count": null,
   "metadata": {},
   "outputs": [],
   "source": [
    "#1.不知道为什么None 出错\n",
    "EVAL_INTERVAL_SECS = 180\n",
    "def evaluate(mnist):\n",
    "    # 定义输出为4维矩阵的placeholder            \n",
    "    x = tf.placeholder(tf.float32, [\n",
    "            5000,                                      ######## 1\n",
    "            LeNet5.IMAGE_SIZE,\n",
    "            LeNet5.IMAGE_SIZE,\n",
    "            LeNet5.NUM_CHANNELS],\n",
    "        name='x-input')\n",
    "    y_ = tf.placeholder(tf.float32, [None, LeNet5.OUTPUT_NODE], name='y-input')\n",
    "    \n",
    "    #mnist.validation.images_tensor = tf.convert_to_tensor(mnist.validation.images)    feed不能是tensor\n",
    "    reshape_xs = np.reshape(mnist.validation.images, [5000,\n",
    "                           LeNet5.IMAGE_SIZE,\n",
    "                           LeNet5.IMAGE_SIZE,\n",
    "                           LeNet5.NUM_CHANNELS])\n",
    "    validate_feed = {x: reshape_xs, y_: mnist.validation.labels}\n",
    "    \n",
    "    y = LeNet5.inference(x, None, False)\n",
    "    correct_prediction = tf.equal(tf.argmax(y, 1), tf.argmax(y_, 1))\n",
    "    accuracy = tf.reduce_mean(tf.cast(correct_prediction, tf.float32))\n",
    "    variable_averages = tf.train.ExponentialMovingAverage(LeNet5.MOVING_AVERAGE_DECAY)\n",
    "    variables_to_restore = variable_averages.variables_to_restore()\n",
    "#     variable_averages = tf.train.ExponentialMovingAverage(LeNet5_train.MOVING_AVERAGE_DECAY)\n",
    "#     variables_to_restore = variable_averages.variables_to_restore()\n",
    "    saver = tf.train.Saver(variables_to_restore)\n",
    "    #$saver = tf.train.Saver()\n",
    "    while True:\n",
    "        with tf.Session() as sess:\n",
    "            ckpt = tf.train.get_checkpoint_state(LeNet5.MODEL_SAVE_PATH)\n",
    "            if ckpt and ckpt.model_checkpoint_path:\n",
    "                #for model in ckpt.all_model_checkpoint_paths:\n",
    "                saver.restore(sess, ckpt.model_checkpoint_path)\n",
    "                    #saver.restore(sess, model)\n",
    "                global_step = ckpt.model_checkpoint_path.split('/')[-1].split('-')[-1]\n",
    "                accuracy_score = sess.run(accuracy, feed_dict=validate_feed)\n",
    "                print(\"After %s training step(s), validation accuracy = %g\" % (global_step, accuracy_score))\n",
    "            else:\n",
    "                print('No checkpoint file found')\n",
    "                return\n",
    "        time.sleep(EVAL_INTERVAL_SECS)"
   ]
  },
  {
   "cell_type": "code",
   "execution_count": null,
   "metadata": {},
   "outputs": [],
   "source": [
    "def main(argv=None):\n",
    "    mnist = input_data.read_data_sets(\"../../../datasets/MNIST_data\", one_hot=True)\n",
    "    evaluate(mnist)\n",
    "\n",
    "if __name__ == '__main__':\n",
    "    main()"
   ]
  },
  {
   "cell_type": "code",
   "execution_count": 9,
   "metadata": {},
   "outputs": [
    {
     "name": "stdout",
     "output_type": "stream",
     "text": [
      "<class 'tensorflow.python.training.checkpoint_state_pb2.CheckpointState'>\n",
      "ckpt: model_checkpoint_path: \"MNIST_model/mnist_model-8001\"\n",
      "all_model_checkpoint_paths: \"MNIST_model/mnist_model-4001\"\n",
      "all_model_checkpoint_paths: \"MNIST_model/mnist_model-5001\"\n",
      "all_model_checkpoint_paths: \"MNIST_model/mnist_model-6001\"\n",
      "all_model_checkpoint_paths: \"MNIST_model/mnist_model-7001\"\n",
      "all_model_checkpoint_paths: \"MNIST_model/mnist_model-8001\"\n",
      " first: MNIST_model/mnist_model-8001 all: ['MNIST_model/mnist_model-4001', 'MNIST_model/mnist_model-5001', 'MNIST_model/mnist_model-6001', 'MNIST_model/mnist_model-7001', 'MNIST_model/mnist_model-8001']\n",
      "MNIST_model/mnist_model-4001\n",
      "MNIST_model/mnist_model-5001\n",
      "MNIST_model/mnist_model-6001\n",
      "MNIST_model/mnist_model-7001\n",
      "MNIST_model/mnist_model-8001\n"
     ]
    }
   ],
   "source": [
    "with tf.Session() as sess:\n",
    "    ckpt = tf.train.get_checkpoint_state(LeNet5.MODEL_SAVE_PATH)\n",
    "    if ckpt and ckpt.model_checkpoint_path:\n",
    "        print(type(ckpt))\n",
    "        print('ckpt:', ckpt, 'first:', ckpt.model_checkpoint_path, 'all:', ckpt.all_model_checkpoint_paths)\n",
    "        for model in ckpt.all_model_checkpoint_paths:\n",
    "            print(model)"
   ]
  },
  {
   "cell_type": "code",
   "execution_count": null,
   "metadata": {},
   "outputs": [],
   "source": []
  }
 ],
 "metadata": {
  "kernelspec": {
   "display_name": "Python 3",
   "language": "python",
   "name": "python3"
  },
  "language_info": {
   "codemirror_mode": {
    "name": "ipython",
    "version": 3
   },
   "file_extension": ".py",
   "mimetype": "text/x-python",
   "name": "python",
   "nbconvert_exporter": "python",
   "pygments_lexer": "ipython3",
   "version": "3.6.4"
  }
 },
 "nbformat": 4,
 "nbformat_minor": 2
}
