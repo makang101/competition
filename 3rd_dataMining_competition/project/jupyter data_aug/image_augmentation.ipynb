{
 "cells": [
  {
   "cell_type": "code",
   "execution_count": 1,
   "metadata": {},
   "outputs": [],
   "source": [
    "import cv2 as cv\n",
    "import numpy as np\n",
    "\n",
    "\"\"\"\n",
    "定义裁减函数，四个参数分别是：\n",
    "左上角横坐标x0\n",
    "左上角纵坐标y0\n",
    "裁剪宽度w\n",
    "裁剪高度h\n",
    "\n",
    "\"\"\"\n",
    "crop_image = lambda img,x0,y0,w,h:img[y0:y0 + h, x0:x0 + w]\n"
   ]
  },
  {
   "cell_type": "code",
   "execution_count": 2,
   "metadata": {},
   "outputs": [],
   "source": [
    "'''\n",
    "随机裁剪\n",
    "area_ratio 为裁剪画面占原画的比例\n",
    "hw_vari 是扰动占原高宽比的比例范围\n",
    "\n",
    "'''\n",
    "def random_crop(img, area_ratio, hw_vari):\n",
    "    h,w = img.shape[:2]\n",
    "    hw_delta = np.random.uniform(-hw_vari,hw_vari)\n",
    "    hw_mult = 1 + hw_delta\n",
    "    \n",
    "#     下标进行裁剪，宽高必须是整数\n",
    "    w_crop = int(round(w * np.sqrt(area_ratio * hw_mult)))\n",
    "#     裁剪宽度不能超过原有宽度\n",
    "    if w_crop > w:\n",
    "        w_crop = w\n",
    "    \n",
    "    h_crop = int(round(h * np.sqrt(area_ratio / hw_mult)))\n",
    "    if h_crop > h:\n",
    "        h_crop = h\n",
    "#     随机生成左上角的位置 ++++++++\n",
    "    x0 = np.random.random() * (w - w_crop)\n",
    "    y0 = np.random.random() * (h - h_crop)\n",
    "    \n",
    "    return crop_image(img,x0,y0,w_crop,h_crop)"
   ]
  },
  {
   "cell_type": "code",
   "execution_count": 2,
   "metadata": {},
   "outputs": [],
   "source": [
    "\"\"\"\n",
    "定义旋转函数\n",
    "angle 是逆时针旋转的角度\n",
    "crop是个布尔值，表明是否要裁剪去除黑边\n",
    "\n",
    "\"\"\"\n",
    "def rotate_image(img,angle,crop):\n",
    "    h,w = img.shape[:2]\n",
    "    angle %= 360 \n",
    "#     得到仿射矩阵\n",
    "    affinemat = cv.getRotateMatrix2D((h/2, w/2), angle, 1)\n",
    "    \n",
    "    img_rotated = cv.warpAffine(img, affinemat, (w,h))\n",
    "    \n",
    "#     需要去除黑边\n",
    "    if crop:\n",
    "#     周期是180，且关于90对称\n",
    "        angle_crop %= 180\n",
    "        if angle_crop > 90:\n",
    "            angle_crop = 180 - angle_crop\n",
    "        theta = angle_crop / 180 * np.pi\n",
    "#         计算裁剪系数\n",
    "        hw_ratio = float(h) / float(w)\n",
    "        \n",
    "        numerator = np.cos(theta) + np.sin(theta) * np.tan(theta)\n",
    "        r = hw_ratio if h > w else 1 / hw_ratio\n",
    "        denominator = r * np.tan(theta) + 1\n",
    "        crop_mult = numerator / denominator\n",
    "        \n",
    "#         得到裁剪区域\n",
    "        w_crop = int(round(crop_mult * w))\n",
    "        h_crop = int(round(crop_mult * h))\n",
    "        x0 = int((w - w_crop) / 2)\n",
    "        y0 = int((h - h_crop) / 2)\n",
    "        img_rotated = crop_image(img_rotated , x0, y0, w_crop, h_crop)\n",
    "    return img_rotated\n"
   ]
  },
  {
   "cell_type": "code",
   "execution_count": 3,
   "metadata": {},
   "outputs": [],
   "source": [
    "\"\"\"\n",
    "随机旋转\n",
    "angle_vari 是旋转角度的范围[-angle_vari,angle_vari]\n",
    "p_crop 是要进行曲黑边裁剪的比例\n",
    "\n",
    "\"\"\"\n",
    "def random_rotate(img , angle_vari, p_crop):\n",
    "    angle = np.random.uniform(-angle_vari, angle_vari)\n",
    "    crop = False if np.random.random() > p_crop else True\n",
    "    return rotate_image(img, angle, crop)\n"
   ]
  },
  {
   "cell_type": "code",
   "execution_count": 5,
   "metadata": {},
   "outputs": [],
   "source": [
    "\"\"\"\n",
    "定义hsv 变换函数\n",
    "hue_delta 是色调变化比例\n",
    "sat_delta 是饱和度变化比例\n",
    "val_delta 是明度变化比例\n",
    "\n",
    "\"\"\"\n",
    "def hsv_transform(img, hue_delta, sat_mult, val_mult):\n",
    "#     ++++++\n",
    "    img_hsv = cv.cvtColor(img, cv.COLOR_BGR2HSV)\n",
    "    img_hsv[:,:,0] = (img_hsv[:,:,0] + hue_delta) % 180\n",
    "    img_hsv[:,:,1] = img_hsv[:,:,1] * (1 + sat_mult)\n",
    "    img_hsv[:,:,2] = img_hsv[:,:,2] * (1 + val_mult)\n",
    "    \n",
    "    img_hsv[img_hsv > 255] = 255\n",
    "#   +++++++++\n",
    "    return cv.cvtColor(img_hsv,cv.HSV2BGR)"
   ]
  },
  {
   "cell_type": "code",
   "execution_count": 7,
   "metadata": {},
   "outputs": [],
   "source": [
    "\"\"\"\n",
    "随机hsv 变换\n",
    "hue_vari \n",
    "sat_vari\n",
    "val_vari\n",
    "\n",
    "\"\"\"\n",
    "def random_hsv(img, hue_vari, sat_vari, val_vari):\n",
    "    hue_delta = np.random.randint(-hue_vari, hue_vari)\n",
    "    sat_mult = 1 + np.random.uniform(-sat.vari, sat.vari)\n",
    "    val_mult = 1 + np.random.uniform(-val_vari, val.vari)\n",
    "    \n",
    "    return hsv_tranform(hue_delta, sat_mult, val_mult)"
   ]
  },
  {
   "cell_type": "code",
   "execution_count": 8,
   "metadata": {},
   "outputs": [],
   "source": [
    "\"\"\"\n",
    "定义gamma 函数\n",
    "gamma 就是Gamma\n",
    "\n",
    "\"\"\"\n",
    "def gamma_transform(img, gamma):\n",
    "    gamma_table = [np.power(x / 255, gamma)* gamma for x in range(256)]\n",
    "#   ++++++++++++++=\n",
    "    gamma_table = int(round(np.array(gamma_table)))\n",
    "    \n",
    "    return cv.LUT(img, gamma_table)\n"
   ]
  },
  {
   "cell_type": "code",
   "execution_count": 10,
   "metadata": {},
   "outputs": [],
   "source": [
    "\"\"\"\n",
    "随机gamma 变换\n",
    "gamma_vari是gamma的变换范围[1/gamma_vari, gamma_vari]\n",
    "\n",
    "\"\"\"\n",
    "def random_gamma_transform(img, gamma_vari):\n",
    "    log_gamma_vari = np.log(gamma_vari)\n",
    "    alpha = np.random.uniform(-log_gamma_vari, log_gamma_vari)\n",
    "    gamma = np.exp(alpha)\n",
    "    return gamma_transform(img, gamma)"
   ]
  }
 ],
 "metadata": {
  "kernelspec": {
   "display_name": "Python 3",
   "language": "python",
   "name": "python3"
  },
  "language_info": {
   "codemirror_mode": {
    "name": "ipython",
    "version": 3
   },
   "file_extension": ".py",
   "mimetype": "text/x-python",
   "name": "python",
   "nbconvert_exporter": "python",
   "pygments_lexer": "ipython3",
   "version": "3.6.4"
  }
 },
 "nbformat": 4,
 "nbformat_minor": 2
}
