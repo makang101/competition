{
 "cells": [
  {
   "cell_type": "code",
   "execution_count": 6,
   "metadata": {},
   "outputs": [],
   "source": [
    "import os\n",
    "import os.path\n",
    "import cv2 as cv\n",
    "import numpy as np"
   ]
  },
  {
   "cell_type": "code",
   "execution_count": 7,
   "metadata": {},
   "outputs": [],
   "source": [
    "\n",
    "def gothrough(filepath,filepathsets):\n",
    "    filelist = os.listdir(filepath)\n",
    "    for i in range(len(filelist)):\n",
    "        filename = filelist[i]\n",
    "        #print(str(i) + ':' + filename)\n",
    "        cur_filepath = (filepath + '/' + filename)\n",
    "        #print(filepath)\n",
    "        if os.path.isdir(cur_filepath):\n",
    "            gothrough(cur_filepath, filepathsets)\n",
    "        else:\n",
    "            filepathsets.append(filepath)\n",
    "            #print(filepath)\n",
    "            break\n",
    "    return filepathsets\n"
   ]
  },
  {
   "cell_type": "code",
   "execution_count": 8,
   "metadata": {},
   "outputs": [],
   "source": [
    "def cv_imread(file_path):\n",
    "    cv_img = cv.imdecode(np.fromfile(file_path, dtype = np.uint8), -1)\n",
    "    return cv_img"
   ]
  },
  {
   "cell_type": "code",
   "execution_count": 9,
   "metadata": {},
   "outputs": [
    {
     "name": "stdout",
     "output_type": "stream",
     "text": [
      "C:\\Users\\Administrator\\jupyter\\data_augmentation/ADaa0002002aa01b.png\n"
     ]
    }
   ],
   "source": [
    "filepath = 'C:\\\\Users\\Administrator\\\\jupyter\\\\data_augmentation\\\\test'\n",
    "filepath = filepath.replace('\\\\','/')\n",
    "#print(filepath)\n",
    "filepathsets = []\n",
    "filepathsets = gothrough(filepath,filepathsets)\n",
    "# for i in range(len(filepathsets)):\n",
    "#     print('{}:'.format(i) + filepathsets[i])\n",
    "root = 'C:\\\\Users\\\\Administrator\\\\jupyter\\\\data_augmentation'\n",
    "path2 = root + '/' + 'ADaa0002002aa01b.png'\n",
    "print(path2)\n",
    "path = 'C:/Users/Administrator/jupyter/data_augmentation/test0/青斑蝶属/ADaa0002002aa01b.png'\n",
    "#path = 'C:/Users/Administrator/jupyter/data_augmentation/ADaa0002002aa01b.png'\n",
    "path1 = 'C:\\\\Users\\\\Administrator\\\\jupyter\\\\data_augmentation\\\\test0\\\\青斑蝶属\\\\ADaa0002002aa01b.png'\n",
    "img = cv_imread(path)\n",
    "#print(img)"
   ]
  },
  {
   "cell_type": "code",
   "execution_count": 12,
   "metadata": {},
   "outputs": [
    {
     "name": "stdout",
     "output_type": "stream",
     "text": [
      "属 青斑蝶\n"
     ]
    }
   ],
   "source": [
    "path = 'C:/Users/Administrator/jupyter/data_augmentation/test0/青斑蝶属/ADaa0002002aa01b.png'\n",
    "img = cv.imread(path)\n",
    "filename = path.split('/')[-2]\n",
    "dot_pos = filename.rfind('.')\n",
    "imgname = filename[:dot_pos]\n",
    "ext = filename[dot_pos:]\n",
    "print(ext,imgname)\n",
    "# filelist = os.listdir(filepath)\n",
    "# #print(filelist)\n",
    "# filename = filelist[0]\n",
    "# filepath = (filepath + '/' + filename)\n",
    "# print(filepath)\n",
    "# filepathsets = []\n",
    "# filepathsets.append(os.path.split(filepath)[0])\n",
    "# print(filepathsets)\n",
    "# os.path.isdir(filepath)\n",
    "# for i in range(10):\n",
    "#     print('{}:'.format(i) + filename)"
   ]
  },
  {
   "cell_type": "code",
   "execution_count": null,
   "metadata": {},
   "outputs": [],
   "source": []
  }
 ],
 "metadata": {
  "kernelspec": {
   "display_name": "Python 3",
   "language": "python",
   "name": "python3"
  },
  "language_info": {
   "codemirror_mode": {
    "name": "ipython",
    "version": 3
   },
   "file_extension": ".py",
   "mimetype": "text/x-python",
   "name": "python",
   "nbconvert_exporter": "python",
   "pygments_lexer": "ipython3",
   "version": "3.6.4"
  }
 },
 "nbformat": 4,
 "nbformat_minor": 2
}
