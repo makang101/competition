{
 "cells": [
  {
   "cell_type": "code",
   "execution_count": 1,
   "metadata": {},
   "outputs": [],
   "source": [
    "import xml.etree.ElementTree as ET\n",
    "import os"
   ]
  },
  {
   "cell_type": "code",
   "execution_count": 2,
   "metadata": {},
   "outputs": [],
   "source": [
    "def xml_parse(filepath):\n",
    "    tree = ET.parse(filepath)\n",
    "    root = tree.getroot()\n",
    "    object = root.find('object')\n",
    "    name = object.find('name').text\n",
    "    return name"
   ]
  },
  {
   "cell_type": "code",
   "execution_count": 4,
   "metadata": {},
   "outputs": [],
   "source": [
    "def get_namemapnum(input_dir):\n",
    "    #input_dir = 'C:\\Users\\Administrator\\work\\pase_excel\\第三届中国数据挖掘大赛-蝴蝶训练集\\Annotations'\n",
    "    filenamelist = os.listdir(input_dir)\n",
    "    #print(filepathlist)\n",
    "    dict = {}\n",
    "    for filename in filenamelist:\n",
    "        filepath = input_dir + '\\\\' + filename\n",
    "        name = xml_parse(filepath)\n",
    "        if name in dict:\n",
    "            dict[name] += 1\n",
    "        else:\n",
    "            dict[name] = 1\n",
    "#     for name, n in dict.items():\n",
    "#         print(name,':',n)\n",
    "    return dict\n",
    "    "
   ]
  }
 ],
 "metadata": {
  "kernelspec": {
   "display_name": "Python 3",
   "language": "python",
   "name": "python3"
  },
  "language_info": {
   "codemirror_mode": {
    "name": "ipython",
    "version": 3
   },
   "file_extension": ".py",
   "mimetype": "text/x-python",
   "name": "python",
   "nbconvert_exporter": "python",
   "pygments_lexer": "ipython3",
   "version": "3.6.4"
  }
 },
 "nbformat": 4,
 "nbformat_minor": 2
}
