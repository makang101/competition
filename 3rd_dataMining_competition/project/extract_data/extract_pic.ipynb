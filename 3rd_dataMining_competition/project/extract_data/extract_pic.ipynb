{
 "cells": [
  {
   "cell_type": "code",
   "execution_count": 1,
   "metadata": {},
   "outputs": [],
   "source": [
    "import pandas as pd\n",
    "import xlrd\n",
    "import re\n",
    "import parse_xml as px\n",
    "import os\n",
    "import os.path\n",
    "import shutil"
   ]
  },
  {
   "cell_type": "code",
   "execution_count": null,
   "metadata": {},
   "outputs": [],
   "source": [
    "# df = pd.read_excel('模式照蝴蝶命名20180226.xlsx')\n",
    "# df.head()"
   ]
  },
  {
   "cell_type": "code",
   "execution_count": 2,
   "metadata": {},
   "outputs": [],
   "source": [
    "def getall_namemaplabel(input_dir):\n",
    "    book = xlrd.open_workbook(input_dir)\n",
    "    sheet = book.sheet_by_name('命名编号')\n",
    "\n",
    "    col_name = sheet.col_values(7)  \n",
    "    col_label = sheet.col_values(11)\n",
    "        \n",
    "    pattern = re.compile(u'[\\u4e00-\\u9fa5]+')\n",
    "    for i in range(len(col_name)):\n",
    "        #col_name[i] = re.split('\\s+',col_name[i])[0]   \n",
    "        #col_name[i] = re.sub(r'[a-zA-Z\\s\\(\\)\\（\\）\\-\\.\\,\\，]+','',col_name[i])  删除模式\n",
    "        if re.findall(pattern, col_name[i]):\n",
    "            col_name[i] = re.findall(pattern, col_name[i])[0]\n",
    "    dict_all_label = {}                    #总字典\n",
    "    for i in range(len(col_name)):\n",
    "        dict_all_label[col_name[i]] = col_label[i]\n",
    "    # for name,label in dict_all_label.items():\n",
    "    #     print(name ,':', label)\n",
    "    return dict_all_label"
   ]
  },
  {
   "cell_type": "code",
   "execution_count": 4,
   "metadata": {},
   "outputs": [],
   "source": [
    "def get_namemaplabel(input_dir0,input_dir1):\n",
    "   \n",
    "    dict_num = px.get_namemapnum(input_dir0)\n",
    "#     for name, n in dict_num.items():\n",
    "#         print(name,':',n)\n",
    "    dict_all_label = getall_namemaplabel(input_dir1)   \n",
    "    dict_label = {}\n",
    "    for name in dict_num:\n",
    "        if name in dict_all_label:\n",
    "            dict_label[name] = dict_all_label[name][0:11]\n",
    "#     for name, label in dict_label.items():\n",
    "#         print(name, ':', label)\n",
    "#     print(len(dict_label))\n",
    "    return dict_label\n",
    "    "
   ]
  },
  {
   "cell_type": "code",
   "execution_count": 8,
   "metadata": {},
   "outputs": [],
   "source": [
    "def gothrough(filepath,filepathset):\n",
    "    filenamelist = os.listdir(filepath)\n",
    "    #print(filenamelist)\n",
    "    for filename in filenamelist:\n",
    "        cur_filepath = os.sep.join([filepath, filename])\n",
    "    #     print(cur_filepath)\n",
    "        if os.path.isdir(cur_filepath):\n",
    "            gothrough(cur_filepath,filepathset)\n",
    "        else:\n",
    "            filepathset.append(filepath)\n",
    "            break\n",
    "    return filepathset\n",
    "        "
   ]
  },
  {
   "cell_type": "code",
   "execution_count": 9,
   "metadata": {},
   "outputs": [],
   "source": [
    "def copy_img_bydir(input_dir,output_dir,dict_label):\n",
    "    if not os.path.exists(output_dir):\n",
    "        os.mkdir(output_dir)\n",
    "    \n",
    "    filenamelist = os.listdir(input_dir)\n",
    "    for filename in filenamelist:\n",
    "        for k in dict_label:\n",
    "            if dict_label[k] == filename[0:11]:\n",
    "                cur_output_dir = output_dir + '\\\\' + filename[0:11]\n",
    "                if not os.path.exists(cur_output_dir):\n",
    "                    os.makedirs(cur_output_dir)\n",
    "                shutil.copy(input_dir + '\\\\'+filename,cur_output_dir + '\\\\' + filename)  "
   ]
  },
  {
   "cell_type": "code",
   "execution_count": 10,
   "metadata": {},
   "outputs": [],
   "source": [
    "def copy_img(input_dir,output_dir,dict_label):\n",
    "    if not os.path.exists(output_dir):\n",
    "        os.mkdir(output_dir)\n",
    "    \n",
    "    filenamelist = os.listdir(input_dir)\n",
    "    for filename in filenamelist:\n",
    "        for k in dict_label:\n",
    "            if dict_label[k] == filename[0:11]:\n",
    "                shutil.copy(input_dir + '\\\\'+filename,output_dir+'\\\\'+filename)\n",
    "    "
   ]
  },
  {
   "cell_type": "code",
   "execution_count": 14,
   "metadata": {},
   "outputs": [
    {
     "name": "stdout",
     "output_type": "stream",
     "text": [
      "Done!\n"
     ]
    }
   ],
   "source": [
    "#def main():\n",
    "input_dir0 = 'C:\\\\Users\\\\Administrator\\\\work\\\\pase_excel\\\\第三届中国数据挖掘大赛-蝴蝶训练集\\\\Annotations'\n",
    "input_dir1 = '模式照蝴蝶命名20180226.xlsx'\n",
    "filepath = 'C:\\\\Users\\\\Administrator\\\\work\\\\pase_excel\\\\test'\n",
    "output_dir = r'C:\\Users\\Administrator\\work\\pase_excel\\pic'\n",
    "dict_label = get_namemaplabel(input_dir0,input_dir1)\n",
    "filepathset = []\n",
    "filepathset = gothrough(filepath, filepathset)\n",
    "#print(filepathset)\n",
    "#print(len(filepathset))\n",
    "for input_dir in filepathset:\n",
    "    copy_img(input_dir,output_dir,dict_label)\n",
    "    #copy_img_bydir(input_dir, output_dir,dict_label) \n",
    "print('Done!')"
   ]
  }
 ],
 "metadata": {
  "kernelspec": {
   "display_name": "Python 3",
   "language": "python",
   "name": "python3"
  },
  "language_info": {
   "codemirror_mode": {
    "name": "ipython",
    "version": 3
   },
   "file_extension": ".py",
   "mimetype": "text/x-python",
   "name": "python",
   "nbconvert_exporter": "python",
   "pygments_lexer": "ipython3",
   "version": "3.6.4"
  }
 },
 "nbformat": 4,
 "nbformat_minor": 2
}
