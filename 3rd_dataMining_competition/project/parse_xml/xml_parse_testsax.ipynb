{
 "cells": [
  {
   "cell_type": "code",
   "execution_count": 3,
   "metadata": {},
   "outputs": [],
   "source": [
    "import xml.sax"
   ]
  },
  {
   "cell_type": "code",
   "execution_count": 4,
   "metadata": {},
   "outputs": [],
   "source": [
    "dict = {}\n",
    "class ButterflyHandler(xml.sax.ContentHandler):\n",
    "    def __init__(self):\n",
    "        self.filename = ''\n",
    "        self.path = ''\n",
    "        self.butterflyname = ''\n",
    "        self.CurrentData = ''     #可以没有\n",
    "    def startElement(self, tag, atr):\n",
    "        self.CurrentData = tag\n",
    "        if tag == 'annotation':\n",
    "            print('annotation:')\n",
    "    def endElement(self, tag):\n",
    "        if tag == 'filename':\n",
    "            dict['filename'] = self.filename\n",
    "            #print('filename:',self.filename)\n",
    "        elif tag == 'path':\n",
    "            dict['path'] = self.path\n",
    "            #print('path:',self.path)\n",
    "        elif tag == 'name':\n",
    "            dict['name'] = self.butterflyname\n",
    "    def characters(self, content):\n",
    "        if self.CurrentData == 'filename':\n",
    "            self.filename = content\n",
    "        elif self.CurrentData == 'path':\n",
    "            self.path = content\n",
    "        elif self.CurrentData == 'name':\n",
    "            self.butterflyname = content"
   ]
  },
  {
   "cell_type": "code",
   "execution_count": 5,
   "metadata": {},
   "outputs": [
    {
     "name": "stdout",
     "output_type": "stream",
     "text": [
      "<__main__.ButterflyHandler object at 0x00000000057F22B0>\n",
      "annotation:\n",
      "filename IMG_000001.jpg\n",
      "path C:\\Users\\zqq\\Desktop\\hudie\\IMG_000001.jpg\n",
      "name 巴黎翠凤蝶\n",
      "total: 3\n"
     ]
    }
   ],
   "source": [
    "if __name__ == '__main__':\n",
    "    parser = xml.sax.make_parser()\n",
    "    parser.setFeature(xml.sax.handler.feature_namespaces,0)\n",
    "    handler = ButterflyHandler()\n",
    "    print(handler)\n",
    "    parser.setContentHandler(handler)\n",
    "    parser.parse('IMG_000001.xml')\n",
    "    for key in dict:\n",
    "        print(key ,dict[key])\n",
    "\n",
    "print('total:',len(dict))"
   ]
  }
 ],
 "metadata": {
  "kernelspec": {
   "display_name": "Python 3",
   "language": "python",
   "name": "python3"
  },
  "language_info": {
   "codemirror_mode": {
    "name": "ipython",
    "version": 3
   },
   "file_extension": ".py",
   "mimetype": "text/x-python",
   "name": "python",
   "nbconvert_exporter": "python",
   "pygments_lexer": "ipython3",
   "version": "3.6.4"
  }
 },
 "nbformat": 4,
 "nbformat_minor": 2
}
